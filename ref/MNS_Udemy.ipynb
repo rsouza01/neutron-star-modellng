{
  "cells": [
    {
      "cell_type": "markdown",
      "metadata": {
        "id": "EbYcAkQzuPp-"
      },
      "source": [
        "*This notebook is particularly designed for Youtube Academic Projects Series by Spartificial Innovations Pvt Ltd. However, anyone is allowed to use it, who is interested in understanding applications of Machine Learning through real world projects.*       \n",
        "*Please contact team@spartificial.com or visit https://spartificial.com/ to know more.*         "
      ]
    },
    {
      "cell_type": "markdown",
      "metadata": {
        "id": "MrdHP-JluShi"
      },
      "source": [
        "# <center> Modeling of Neutron Star using Numerical Method\n",
        "\n",
        "---\n",
        "\n",
        "**Project ID: MNS-0323**      \n",
        "\n",
        "**Project Name: Modelling of Neutron Star**\n",
        "\n",
        "---\n",
        "\n"
      ]
    },
    {
      "cell_type": "markdown",
      "metadata": {
        "id": "wubp6jXwwKAa"
      },
      "source": [
        "<center> <img src = \"https://universe.nasa.gov/internal_resources/471/supernova.gif\" width = 75%>"
      ]
    },
    {
      "cell_type": "markdown",
      "metadata": {
        "id": "wnPgFx-5wPv_"
      },
      "source": [
        "## Workflow of this notebook\n",
        "**1)** [Introducing Neutron Stars](#h1)          \n",
        "**2)** [Problem Statement](#h2)        \n",
        "**3)** [Plank System of Units](#h3)           \n",
        "**4)** [Define useful functions](#h4)     \n",
        "**5)** [Setting up the Similation Parameters](#h5)    \n",
        "**6)** [Modeling a Neutron Star](#h6)         \n",
        "**7)** [Conclusions](#h7)       \n"
      ]
    },
    {
      "cell_type": "markdown",
      "metadata": {
        "id": "g4OrjDiDBoS3"
      },
      "source": [
        "## Introducing Neutron Stars <a name = 'h1'><a>\n",
        "\n",
        "Imagine a star, like our own sun, but with a difference. Instead of the fiery nuclear reactions at its core keeping it shining, this star has already exhausted all of its fuel. It has burned through everything that could sustain its energy.  When a massive star runs out of fuel, it can no longer sustain the nuclear reactions that keep it from collapsing under its own gravity. The core of the star collapses, and the outer layers are expelled in a spectacular explosion called a supernova.\n",
        "\n",
        "<img src = 'https://cdn.britannica.com/92/124492-050-047F11FB/image-Kepler-Nova-Keplers-Supernova-Chandra-X-ray.jpg' width = 65%>  \n",
        "\n",
        "Isn't it just beautiful? Well, it's as violent too! During this explosion, the temperature and pressure reach unimaginable levels, and elements heavier than iron are formed. The shock wave from the explosion compresses the core to an extreme density, causing protons and electrons to combine and form neutrons. This results in a compact object made almost entirely of neutrons, hence the name neutron star.\n",
        "\n",
        " <img src = 'https://cdn.mos.cms.futurecdn.net/7BHv7n2L3KJNuRgDDbaJVf-1200-80.jpg' width = 65%>  \n",
        "\n",
        "To give you an idea, imagine taking the entire mass of the sun and squeezing it into a sphere the size of a city. That's the kind of density we're talking about! Neutron stars are incredibly dense, but they are also incredibly small. Despite having a mass greater than the sun, they are only about few  kilometers in diameter. Due to their high density, they also have a strong gravitational pull. In fact, their gravitational pull is so strong that they can bend and distort light, causing a phenomenon known as gravitational lensing.\n",
        "\n",
        "<img src = 'https://static.wikia.nocookie.net/starfrontiers/images/0/0a/Neutron_Star_Lenticular_Gravity_Effect.jpg/revision/latest?cb=20140820154427' width = 65%>\n",
        "\n",
        "Despite their small size, neutron stars can spin at an astonishing rate, sometimes hundreds of times per second! As they spin, they emit beams of radiation that can be detected on Earth, making them some of the most interesting objects in the universe to study. In fact, neutron stars are so fascinating that they continue to capture the imagination of scientists and astronomers alike, offering an unparalleled opportunity to learn about the most extreme conditions in the universe. And that's exactly what we are going to do here by modeling a neutron star!\n",
        "\n",
        "<img src = 'https://thumbor.forbes.com/thumbor/fit-in/1200x0/filters%3Aformat%28jpg%29/https%3A%2F%2Fblogs-images.forbes.com%2Fstartswithabang%2Ffiles%2F2019%2F02%2Fghirlanda1HR-1200x742.jpg' width = 65%>\n"
      ]
    },
    {
      "cell_type": "markdown",
      "metadata": {
        "id": "I2AI_x3wJgVt"
      },
      "source": [
        "## Problem Statement <a name = 'h2'><a>\n",
        "\n",
        "We will be modeling a neutron star using the numerical method known as Runge-Kutta 4th order (RK4) on the Hydrostatic Equilibrium and TOV (Tolman-Oppenheimer-Volkoff) equations for the classical and relativistic model respectively. Don't worry if these fancy words are scarying you! Let's get a gist of each one of them.\n"
      ]
    },
    {
      "cell_type": "markdown",
      "metadata": {
        "id": "6BxGbxQxQWGU"
      },
      "source": [
        "#### <mark>Runge-Kutta</mark>\n",
        "\n",
        "<img src = 'https://slopefield.files.wordpress.com/2016/03/runge-kutta.png?w=663' width = 35%>\n",
        "\n",
        "- Runge-Kutta is a family of numerical methods that are used to solve ordinary differential equations (ODEs) and systems of ODEs.\n",
        "\n",
        "- It uses iterative steps to approximate the solution of an ODE at a given point in time.\n",
        "\n",
        "- The method involves breaking the ODE down into smaller, more manageable steps, and then using an iterative process to approximate the solution at each step.\n",
        "\n",
        "- It is one of the most commonly used numerical methods for solving ODEs, as it provides a good balance between accuracy and computational efficiency.\n",
        "\n",
        "- Hence, we shall also try and use it for our problem statement. We will peek more into RK4 and it's equations later while we code for it."
      ]
    },
    {
      "cell_type": "markdown",
      "metadata": {
        "id": "0hTGu38NQXwz"
      },
      "source": [
        "#### <mark>Hydrostatic Equilibrium and TOV Equations</mark>\n",
        "\n",
        "<img src='http://www.daviddarling.info/images/hydrostatic_equilibrium.jpg' width = 35%>\n",
        "\n",
        "- So we know that RK4 method is used to solve ODEs and system of ODEs. So which ODEs are we going to solve in this project? Well, that's where Hydrostatic and TOV equations come into the picture.\n",
        "\n",
        "- They are fundamental concepts in modeling a neutron star which describe how the forces of gravity and pressure balance each other out, allowing a neutron star to maintain its size and shape.\n",
        "\n",
        "- While both approaches aim to model the structure of a neutron star, hydrostatic equilibrium is a classical approach that assumes the star is in hydrostatic equilibrium (pressure gradient within the star balances the gravitational force), while the TOV equations are derived from general relativity and take into account relativistic effects.\n",
        "\n",
        "- We shall glance over this topic a bit more to understand their equations when we will code it later in this notebook."
      ]
    },
    {
      "cell_type": "markdown",
      "metadata": {
        "id": "zTRds-O9d6PR"
      },
      "source": [
        "## Plank System Units <a name = 'h3'><a>\n",
        "\n",
        "<img src = 'https://i.ytimg.com/vi/nCMuPjN8Uh8/maxresdefault.jpg' width = 45%>\n",
        "\n",
        "- The Planck system of units is a system of natural units based on fundamental physical constants, such as the speed of light, Planck's constant, and the gravitational constant. In this system, these constants are set to the value of 1, which allows for easier and more meaningful comparison between different physical quantities.\n",
        "\n",
        "- Also the value of 4π is set to 1, along with the other constants mentioned above. For example, in the hydrostatic equilibrium equation, the 4π term is commonly used to account for the total solid angle of the sphere, but in the Planck system, it simplifies to just 1.\n",
        "\n",
        "- Hence, using the Planck system of units, many physical constants and equations can be simplified and expressed in a more elegant and compact form. We shall use this system of units for this project.\n",
        "\n",
        "- It is often used in theoretical physics and cosmology, particularly in areas related to quantum gravity and the study of the early universe."
      ]
    },
    {
      "cell_type": "markdown",
      "metadata": {
        "id": "luhVDnZ8bNsx"
      },
      "source": [
        "## Defining the Functions <a name = 'h4'><a>\n",
        "\n",
        "We shall now understand and build multiple functions that will be used in this project."
      ]
    },
    {
      "cell_type": "code",
      "execution_count": 9,
      "metadata": {
        "id": "JW9PMG5n60-1"
      },
      "outputs": [],
      "source": [
        "# Import necessary Libraries to get started\n",
        "import numpy as np               # we will need a lot of arrays in this project\n",
        "import matplotlib.pyplot as plt  # for visualising the results"
      ]
    },
    {
      "cell_type": "markdown",
      "metadata": {
        "id": "6GRG4tTGcmUQ"
      },
      "source": [
        "#### **1) Initial number densisty of a neutron star**\n",
        "\n",
        "- The initial number density of a neutron star refers to the number of neutrons per unit volume at the very beginning of the star's formation.\n",
        "\n",
        "-  By specifying the initial number density, scientists can model the structure of the star and understand how its physical properties, such as mass, radius, and internal composition, evolve over time.\n",
        "\n",
        "- The function uses the Newton-Raphson method to solve the equation that determines the value of \"n\". The equation for this is obtained by substituting the expressions for pressure and energy density from the TOV equation into the equation of hydrostatic equilibrium.\n",
        "\n",
        "- The equation is in the form of a nonlinear algebraic equation and cannot be solved analytically. Therefore, the Newton-Raphson method is used to iteratively find the value of \"n\" that satisfies the equation.\n",
        "\n",
        "**Equation to be used in Newton Raphson Method:-**      \n",
        "$f(n) = {236.n^{2.54} + n.m_n - \\rho_s}$       \n",
        "$f'(n) = 236 \\times 2.54 \\times n^{1.54} + m_n$\n",
        "\n",
        "**Newton Raphson Method:-**          \n",
        "$n_{i+1} = n_i - \\frac{f(n_i)}{f'(n_i)}$"
      ]
    },
    {
      "cell_type": "code",
      "execution_count": 1,
      "metadata": {
        "id": "kiYPAckymy3g"
      },
      "outputs": [
        {
          "ename": "KeyboardInterrupt",
          "evalue": "",
          "output_type": "error",
          "traceback": [
            "\u001b[0;31m---------------------------------------------------------------------------\u001b[0m",
            "\u001b[0;31mKeyboardInterrupt\u001b[0m                         Traceback (most recent call last)",
            "Cell \u001b[0;32mIn[1], line 1\u001b[0m\n\u001b[0;32m----> 1\u001b[0m \u001b[38;5;28;01mdef\u001b[39;00m \u001b[38;5;21minitial_n\u001b[39m():\n\u001b[1;32m      3\u001b[0m \u001b[38;5;250m    \u001b[39m\u001b[38;5;124;03m'''Initial number of neutrons per unit volume at r = 0'''\u001b[39;00m\n\u001b[1;32m      5\u001b[0m     n \u001b[38;5;241m=\u001b[39m \u001b[38;5;241m1\u001b[39m                                   \u001b[38;5;66;03m# Initial value of n\u001b[39;00m\n",
            "File \u001b[0;32m<stringsource>:69\u001b[0m, in \u001b[0;36mcfunc.to_py.__Pyx_CFunc_b0409f__29_pydevd_sys_monitoring_cython_object__lParen__etc_to_py_4code_4line.wrap\u001b[0;34m()\u001b[0m\n",
            "File \u001b[0;32m_pydevd_sys_monitoring\\\\_pydevd_sys_monitoring_cython.pyx:1465\u001b[0m, in \u001b[0;36m_pydevd_sys_monitoring_cython._line_event\u001b[0;34m()\u001b[0m\n",
            "File \u001b[0;32m_pydevd_sys_monitoring\\\\_pydevd_sys_monitoring_cython.pyx:1507\u001b[0m, in \u001b[0;36m_pydevd_sys_monitoring_cython._internal_line_event\u001b[0;34m()\u001b[0m\n",
            "File \u001b[0;32m_pydevd_sys_monitoring\\\\_pydevd_sys_monitoring_cython.pyx:1308\u001b[0m, in \u001b[0;36m_pydevd_sys_monitoring_cython._stop_on_breakpoint\u001b[0;34m()\u001b[0m\n",
            "File \u001b[0;32m_pydevd_sys_monitoring\\\\_pydevd_sys_monitoring_cython.pyx:1945\u001b[0m, in \u001b[0;36m_pydevd_sys_monitoring_cython._do_wait_suspend\u001b[0;34m()\u001b[0m\n",
            "File \u001b[0;32m~/.local/lib/python3.12/site-packages/debugpy/_vendored/pydevd/pydevd.py:2185\u001b[0m, in \u001b[0;36mPyDB.do_wait_suspend\u001b[0;34m(self, thread, frame, event, arg, exception_type)\u001b[0m\n\u001b[1;32m   2182\u001b[0m             from_this_thread\u001b[38;5;241m.\u001b[39mappend(frame_custom_thread_id)\n\u001b[1;32m   2184\u001b[0m     \u001b[38;5;28;01mwith\u001b[39;00m \u001b[38;5;28mself\u001b[39m\u001b[38;5;241m.\u001b[39m_threads_suspended_single_notification\u001b[38;5;241m.\u001b[39mnotify_thread_suspended(thread_id, thread, stop_reason):\n\u001b[0;32m-> 2185\u001b[0m         keep_suspended \u001b[38;5;241m=\u001b[39m \u001b[38;5;28;43mself\u001b[39;49m\u001b[38;5;241;43m.\u001b[39;49m\u001b[43m_do_wait_suspend\u001b[49m\u001b[43m(\u001b[49m\u001b[43mthread\u001b[49m\u001b[43m,\u001b[49m\u001b[43m \u001b[49m\u001b[43mframe\u001b[49m\u001b[43m,\u001b[49m\u001b[43m \u001b[49m\u001b[43mevent\u001b[49m\u001b[43m,\u001b[49m\u001b[43m \u001b[49m\u001b[43marg\u001b[49m\u001b[43m,\u001b[49m\u001b[43m \u001b[49m\u001b[43mtrace_suspend_type\u001b[49m\u001b[43m,\u001b[49m\u001b[43m \u001b[49m\u001b[43mfrom_this_thread\u001b[49m\u001b[43m,\u001b[49m\u001b[43m \u001b[49m\u001b[43mframes_tracker\u001b[49m\u001b[43m)\u001b[49m\n\u001b[1;32m   2187\u001b[0m frames_list \u001b[38;5;241m=\u001b[39m \u001b[38;5;28;01mNone\u001b[39;00m\n\u001b[1;32m   2189\u001b[0m \u001b[38;5;28;01mif\u001b[39;00m keep_suspended:\n\u001b[1;32m   2190\u001b[0m     \u001b[38;5;66;03m# This means that we should pause again after a set next statement.\u001b[39;00m\n",
            "File \u001b[0;32m~/.local/lib/python3.12/site-packages/debugpy/_vendored/pydevd/pydevd.py:2254\u001b[0m, in \u001b[0;36mPyDB._do_wait_suspend\u001b[0;34m(self, thread, frame, event, arg, trace_suspend_type, from_this_thread, frames_tracker)\u001b[0m\n\u001b[1;32m   2251\u001b[0m                 queue\u001b[38;5;241m.\u001b[39mput(internal_cmd)\n\u001b[1;32m   2252\u001b[0m                 wait_timeout \u001b[38;5;241m=\u001b[39m TIMEOUT_FAST\n\u001b[0;32m-> 2254\u001b[0m         \u001b[43mnotify_event\u001b[49m\u001b[38;5;241;43m.\u001b[39;49m\u001b[43mwait\u001b[49m\u001b[43m(\u001b[49m\u001b[43mwait_timeout\u001b[49m\u001b[43m)\u001b[49m\n\u001b[1;32m   2255\u001b[0m         notify_event\u001b[38;5;241m.\u001b[39mclear()\n\u001b[1;32m   2257\u001b[0m \u001b[38;5;28;01mfinally\u001b[39;00m:\n",
            "File \u001b[0;32m/usr/local/python/3.12.1/lib/python3.12/threading.py:655\u001b[0m, in \u001b[0;36mEvent.wait\u001b[0;34m(self, timeout)\u001b[0m\n\u001b[1;32m    653\u001b[0m signaled \u001b[38;5;241m=\u001b[39m \u001b[38;5;28mself\u001b[39m\u001b[38;5;241m.\u001b[39m_flag\n\u001b[1;32m    654\u001b[0m \u001b[38;5;28;01mif\u001b[39;00m \u001b[38;5;129;01mnot\u001b[39;00m signaled:\n\u001b[0;32m--> 655\u001b[0m     signaled \u001b[38;5;241m=\u001b[39m \u001b[38;5;28;43mself\u001b[39;49m\u001b[38;5;241;43m.\u001b[39;49m\u001b[43m_cond\u001b[49m\u001b[38;5;241;43m.\u001b[39;49m\u001b[43mwait\u001b[49m\u001b[43m(\u001b[49m\u001b[43mtimeout\u001b[49m\u001b[43m)\u001b[49m\n\u001b[1;32m    656\u001b[0m \u001b[38;5;28;01mreturn\u001b[39;00m signaled\n",
            "File \u001b[0;32m/usr/local/python/3.12.1/lib/python3.12/threading.py:359\u001b[0m, in \u001b[0;36mCondition.wait\u001b[0;34m(self, timeout)\u001b[0m\n\u001b[1;32m    357\u001b[0m \u001b[38;5;28;01melse\u001b[39;00m:\n\u001b[1;32m    358\u001b[0m     \u001b[38;5;28;01mif\u001b[39;00m timeout \u001b[38;5;241m>\u001b[39m \u001b[38;5;241m0\u001b[39m:\n\u001b[0;32m--> 359\u001b[0m         gotit \u001b[38;5;241m=\u001b[39m \u001b[43mwaiter\u001b[49m\u001b[38;5;241;43m.\u001b[39;49m\u001b[43macquire\u001b[49m\u001b[43m(\u001b[49m\u001b[38;5;28;43;01mTrue\u001b[39;49;00m\u001b[43m,\u001b[49m\u001b[43m \u001b[49m\u001b[43mtimeout\u001b[49m\u001b[43m)\u001b[49m\n\u001b[1;32m    360\u001b[0m     \u001b[38;5;28;01melse\u001b[39;00m:\n\u001b[1;32m    361\u001b[0m         gotit \u001b[38;5;241m=\u001b[39m waiter\u001b[38;5;241m.\u001b[39macquire(\u001b[38;5;28;01mFalse\u001b[39;00m)\n",
            "\u001b[0;31mKeyboardInterrupt\u001b[0m: "
          ]
        }
      ],
      "source": [
        "def initial_n():\n",
        "\n",
        "    '''Initial number of neutrons per unit volume at r = 0'''\n",
        "\n",
        "    n = 1                                   # Initial value of n\n",
        "    err = 1                                 # Inital Error\n",
        "    tol = 1e-15                             # Tolerance Value\n",
        "    count = 0                               # To track total iterations for convergence\n",
        "\n",
        "    # Newton-Raphson method\n",
        "    while err > tol :                       # Untill convergence of n\n",
        "        count += 1                          # Increment the count of the iteration\n",
        "        fn = 236*n**(2.54) + n*mn - rho_s   # Find f(n_old)\n",
        "        dfn = 236*2.54*n**(1.54) + mn       # Find f'(n_old)\n",
        "        temp = n - fn/dfn                   # Calculate n_new using Newton Raphson Method\n",
        "        err = np.abs(n-temp)                # Calculate the error\n",
        "        n = temp                            # Use this n value in next iteration for f(n_old), f'(n_old)\n",
        "    print(\"Newton-Raphson Converged after \", count, \"iterations\")\n",
        "    return n"
      ]
    },
    {
      "cell_type": "markdown",
      "metadata": {
        "id": "UW9-YuX1m0Z6"
      },
      "source": [
        "#### **2) Energy density $ρ$ of the neutron star given the pressure**\n",
        "- This function will be used to calculate the energy density (ρ) of the neutron star given the pressure (p) at a particular point. It uses the TOV equation to determine the relationship between pressure and energy density.\n",
        "\n",
        "- The first step in the function is to calculate the number density (n) of the neutron star using the input pressure (p) and the known values of the neutron mass (mn) and the nuclear central density ($\\rho_s$). The equation used for this is:\n",
        "\n",
        "- $n = (\\frac{p.\\rho_s}{363.44})^{(1/2.54)}$\n",
        "\n",
        "- Once the number density is known, the energy density can be calculated using the TOV equation:\n",
        "\n",
        "- ${\\rho(p) = \\frac{236.n^{2.54} + n.m_n}{\\rho_s}}$\n",
        "\n",
        "This equation relates the energy density ($\\rho$) to the number density (n) and neutron mass (mn). The function then returns the calculated energy density."
      ]
    },
    {
      "cell_type": "code",
      "execution_count": 11,
      "metadata": {
        "id": "xY1PUZg1pT-a"
      },
      "outputs": [],
      "source": [
        "def rho(p):\n",
        "\n",
        "    '''\n",
        "    Energy Density of a neutron star at a given pressure\n",
        "    rho_s - Central Density at r = 0\n",
        "    mn - mass of a neutron\n",
        "    n - number density at given pressure\n",
        "    '''\n",
        "\n",
        "    n = (p*rho_s/363.44)**(1/2.54)\n",
        "    return (236. * n**2.54 + n *mn)/rho_s"
      ]
    },
    {
      "cell_type": "markdown",
      "metadata": {
        "id": "6Mjgnjiz26gN"
      },
      "source": [
        "#### **3) Classical and Relativistic Models for calculating the Pressure Gradient**\n",
        "\n",
        "**Classical Model**         \n",
        "- The classical model is used to describe the equilibrium structure of the star.\n",
        "\n",
        "- The classical model is based on the hydrostatic equilibrium equation, which relates the pressure gradient force to the gravitational force inside the star.\n",
        "\n",
        "- The classical model assumes that the star is composed of non-interacting, non-relativistic particles, and neglects the effects of special and general relativity on the star's matter.\n",
        "\n",
        "- The equation for pressure gradient in the classical model is as follows:         \n",
        "<img src = 'https://drive.google.com/uc?id=1Yg078cufyoiXDZfbcQj0zUlY7MlCGyDW' width = 11%>      \n",
        "\n",
        "- However, as we are using Planck system units, $G = 1$. Hence, this equation now becomes:     \n",
        "$\\frac{dP}{dr} = -\\frac{mρ}{r^2}$\n",
        "\n",
        "**Relativisitc Model**\n",
        "- TOV equations can be a useful starting point for understanding the basic structure of a neutron star, since they provide a framework for calculating the properties of a spherically symmetric, non-rotating, and a relativistic neutron star, such as its mass, radius, and central density.\n",
        "\n",
        "- Hence, we shall use the TOV equation for the pressure gradient calculation for the relativistic model:\n",
        "<img src = 'https://drive.google.com/uc?id=10IB-8MbkWUb-OJjI1JQF0HyNhtnYIgrA' width = 23%>\n",
        "\n",
        "- However, as we are using Plank system units, $G = c = 4\\pi = 1$. Thus, this equation now becomes:        \n",
        "$\\frac{dP}{dr} = -\\frac{(\\rho + P)(m + Pr^3)}{r^2 - 2mr}$\n",
        "\n",
        "\n",
        "**NOTE:-**     \n",
        "- At the center of a neutron star, that is when r = 0, the denominator for both the above equations will become 0. Hence, to avoid this we will add a small value in the denominator to each equation, 1 $\\times$ 10$^{-20}$.\n",
        "\n",
        "- Also, we will use a flag in this function to access the classical model if it is set to 0 else if it is set to 1 then it shall access the relativistic model.\n",
        "\n",
        "\n",
        "\n",
        "\n",
        "\n",
        "\n",
        "\n"
      ]
    },
    {
      "cell_type": "code",
      "execution_count": 12,
      "metadata": {
        "id": "m9LtyWUe_fMV"
      },
      "outputs": [],
      "source": [
        "def dp_dr(r,m,p,flag):\n",
        "\n",
        "    '''\n",
        "    Pressure Gradient\n",
        "    r - distance from the center of neutron star\n",
        "    m - mass enclosed within the value of r\n",
        "    p - pressure at that value of r\n",
        "    flag - choose between classical and relativistic models\n",
        "    '''\n",
        "\n",
        "    if flag == 0:\n",
        "        # Classical Model\n",
        "        y = -m*rho(p)/(r**2 + 1e-20)\n",
        "\n",
        "    else:\n",
        "        # Relativistic Model\n",
        "        y = -(p+rho(p))*(m + p*r**3)/(r**2 - 2*m*r + 1e-20)\n",
        "\n",
        "    return y"
      ]
    },
    {
      "cell_type": "markdown",
      "metadata": {
        "id": "_gy81LOwAThi"
      },
      "source": [
        "#### **4) Calculating the Mass Gradient**      \n",
        "-  It calculates the change in mass enclosed within a radius r, with respect to the change in radius r, at a given pressure p.\n",
        "\n",
        "- Hence, the equation of the mass gradient equation that gives the rate of change of mass with respect to radius, based on the density profile of the star:      \n",
        "<img src = 'https://drive.google.com/uc?id=1aaS7lqDApFC-m7rhc8lOSxGYTHLNxYmL' width = 10%>     \n",
        "\n",
        "- Keeping in mind the Planck system units, this equation now becomes:        \n",
        "$\\frac{dm}{dr} = r^2\\rho$"
      ]
    },
    {
      "cell_type": "code",
      "execution_count": 14,
      "metadata": {
        "id": "wqV_r7zIC40G"
      },
      "outputs": [],
      "source": [
        "def dm_dr(r,m,p):\n",
        "\n",
        "    '''\n",
        "    Mass Gradient\n",
        "    Same r, m, p as we used for pressure gradient are to be used for mass gradient\n",
        "    '''\n",
        "\n",
        "    return rho(p)*r**2"
      ]
    },
    {
      "cell_type": "markdown",
      "metadata": {
        "id": "O_j-Wgg7M7eV"
      },
      "source": [
        "**Reference:-**        \n",
        "- You can check [this material](https://www.ictp-saifr.org/schoolgr/Lecture2Creighton.pdf) to go through the idea of classical and relativistic equations for pressure and mass gradients."
      ]
    },
    {
      "cell_type": "markdown",
      "metadata": {
        "id": "9jTd6FDOC5ov"
      },
      "source": [
        "##### **5) Runge-Kutta 4th order Solver for a system of two ODEs**      \n",
        "\n",
        "<img src = 'https://qph.cf2.quoracdn.net/main-qimg-0a4499ac8d33ca2f010549de27d2093d' width = 35%>\n",
        "\n",
        "- Two system of ODEs that we have for this problem is the pressure and mass gradient equations that we saw above. Both the equations were the functions of r, m and P.\n",
        "\n",
        "- Now, the idea is to solve these equations numerically using RK4 method to get the values of P and m at respective values of r.\n",
        "\n",
        "- We must have initial conditions for r for which m and P are defined to get started with RK4 sovler as it calculates the next values of m and P dependent on the previous value that is some h units next to the initial r, that is, new values of m and P will be then calculated on $r_{new} = r_{old} + h.$\n",
        "\n",
        "- The value of $h$ determines the total steps to be performed in RK4 solver. For example, if $r_{0} = 0$ and $r_{1} = 0.4$ and if you choose the value of h to be 0.2 then it would take 2 steps to go from r = 0 to r = 0.4.\n",
        "\n",
        "- The concept is that in order to go from $r_{old}$ to $r_{new}$ RK4 calculates four different gradients, namely, $k_{11}$, $k_{12}$, $k_{13}$, $k_{14}$ for m and $k_{21}$, $k_{22}$, $k_{23}$, $k_{24}$ for P.\n",
        "\n",
        "- The way these gradients and updation step of m and P are calulated are through the following equations:-\n",
        "\n",
        " **Gradient Calculations for m and P:-**     \n",
        "  - $k_{11} = \\frac{dm}{dr}(r, m, P)$     \n",
        "  $k_{21} = \\frac{dP}{dr}(r, m, P)$\n",
        "\n",
        "  - $k_{12} = \\frac{dm}{dr}(r+0.5h, m+0.5hk_{11}, P+0.5hk_{21})$  \n",
        "  $k_{22} = \\frac{dP}{dr}(r+0.5h, m+0.5hk_{11}, P+0.5hk_{21})$  \n",
        "\n",
        "  - $k_{13} = \\frac{dm}{dr}(r+0.5h, m+0.5hk_{12}, P+0.5hk_{22})$  \n",
        "  $k_{23} = \\frac{dP}{dr}(r+0.5h, m+0.5hk_{12}, P+0.5hk_{22})$  \n",
        "\n",
        "  - $k_{14} = \\frac{dm}{dr}(r+h, m+hk_{13}, P+hk_{23})$  \n",
        "  $k_{24} = \\frac{dP}{dr}(r+h, m+hk_{13}, P+hk_{23})$  \n",
        "\n",
        "  **Updation Step for m and P:-**\n",
        "  - $m_{new} = m_{old} + \\frac{h}{6}(k_{11} + 2k_{12} + 2k_{13} + k_{14})$\n",
        "  - $P_{new} = P_{old} + \\frac{h}{6}(k_{21} + 2k_{22} + 2k_{23} + k_{24})$\n",
        "\n",
        "- We need to keep on updating m and P for the desired number of steps or until the solution has reached a desired value of r."
      ]
    },
    {
      "cell_type": "markdown",
      "metadata": {
        "id": "8k7Gig75YqHw"
      },
      "source": [
        "**Desmos output shown in the video can be accessed via [this link](https://www.desmos.com/calculator/2wnqyu4rur).**"
      ]
    },
    {
      "cell_type": "code",
      "execution_count": 15,
      "metadata": {
        "id": "zCNdpQLxNRDF"
      },
      "outputs": [],
      "source": [
        "def RK4Solver(r,m,p,h,flag):\n",
        "\n",
        "    '''\n",
        "    Runge - Kutta 4th order Method\n",
        "    Calculates 4 different pressure and mass gradients\n",
        "    K1_ - Mass Gradients\n",
        "    K2_ - Pressure Gradients\n",
        "    '''\n",
        "    y = np.zeros(2)                                               # To store the next value of m and p\n",
        "\n",
        "    # Gradient 1 at start point\n",
        "    k11 = dm_dr(r, m, p)\n",
        "    k21 = dp_dr(r, m, p, flag)\n",
        "\n",
        "    # Gradient 2 at mid of start and end point\n",
        "    k12 = dm_dr(r + 0.5*h, m + 0.5*k11*h, p + 0.5*k21*h)\n",
        "    k22 = dp_dr(r + 0.5*h, m + 0.5*k11*h, p + 0.5*k21*h, flag)\n",
        "\n",
        "    # Gradient 3 at mid of start and end point\n",
        "    k13 = dm_dr(r + 0.5*h, m + 0.5*k12*h, p + 0.5*k22*h)\n",
        "    k23 = dp_dr(r + 0.5*h, m + 0.5*k12*h, p + 0.5*k22*h, flag)\n",
        "\n",
        "    # Gradient 4 at end point\n",
        "    k14 = dm_dr(r + h, m + k13*h, p + k23*h)\n",
        "    k24 = dp_dr(r + h, m + k13*h, p + k23*h, flag)\n",
        "\n",
        "    # Updation of m and p\n",
        "    y[0] = m + h*(k11 + 2*k12 + 2*k13 + k14)/6\n",
        "    y[1] = p + h*(k21 + 2*k22 + 2*k23 + k24)/6\n",
        "\n",
        "    return y"
      ]
    },
    {
      "cell_type": "markdown",
      "metadata": {
        "id": "IE_IGJB_NH2n"
      },
      "source": [
        "**Reference:-**      \n",
        "- Use [this material](https://www.haroldserrano.com/blog/visualizing-the-runge-kutta-method) to visualise the RK4 Method."
      ]
    },
    {
      "cell_type": "markdown",
      "metadata": {
        "id": "6QvefmEs7-LC"
      },
      "source": [
        "#### **6) Plotting the Data**\n",
        "\n",
        "- In order to ease the task of a neat plot, let's build one function!"
      ]
    },
    {
      "cell_type": "code",
      "execution_count": 16,
      "metadata": {
        "id": "q8ECnqtoot8l"
      },
      "outputs": [],
      "source": [
        "def plot_data(color, label):\n",
        "\n",
        "    # Mass Profile\n",
        "    plt.subplot(1, 2, 1)\n",
        "    plt.plot(r*R0*1e-18, m*M0/Ms, color = color, linewidth = 1.2, label = label)\n",
        "    plt.xlabel('Distance, $r$ (km)', fontsize = 13)\n",
        "    plt.ylabel('Mass, $M/M_{sun}$', fontsize = 13)\n",
        "    plt.title('Mass Profile of a Neutron Star', color = 'tab:red', weight = 'bold', fontsize = 15)\n",
        "    plt.xlim(left = 0)\n",
        "    plt.ylim(bottom = 0)\n",
        "    plt.legend(fontsize = 13, frameon = False)\n",
        "\n",
        "    # Pressure Profile\n",
        "    plt.subplot(1, 2, 2)\n",
        "    plt.plot(r*R0*1e-18, p*rho_s, color = color, linewidth = 1.2, label = label)\n",
        "    plt.xlabel('Distance, $r$ (km)', fontsize = 13)\n",
        "    plt.ylabel('Pressure, $P$ $(MeV/fm^{3})$', fontsize = 13)\n",
        "    plt.title('Pressure Profile of a Neutron Star', color = 'tab:red', weight = 'bold', fontsize = 15)\n",
        "    plt.xlim(left = 0)\n",
        "    plt.ylim(bottom = 0)\n",
        "    plt.legend(fontsize = 13, frameon = False)"
      ]
    },
    {
      "cell_type": "markdown",
      "metadata": {
        "id": "9GmKXUIAlNJG"
      },
      "source": [
        "## Set all the Initial Values and Simulation Parameters <a name = 'h5'><a>\n",
        "- Remember that we have computed the above functions keeping in mind that we are using Planck system of units.\n",
        "\n",
        "- Hence in order to visualise the results better, we have to convert them back to their physical units.\n",
        "\n",
        "- We shall now go ahead and initialize the simulation parameters and these conversion factors!"
      ]
    },
    {
      "cell_type": "code",
      "execution_count": 17,
      "metadata": {
        "id": "pzcA2K0wlSRg"
      },
      "outputs": [],
      "source": [
        "# Simulation parameters and Conversion factors\n",
        "hc = 197.327                                # conversion factor in MeV fm (h bar * c)\n",
        "G = hc * 6.67259e-45                        # gravitational constant in MeV^-1 fm^3 kg^-1\n",
        "Ms = 1.1157467e60                           # mass of Sun in MeV\n",
        "rho_s = 1665.3                              # central density of neutron star (density at r = 0) in MeV/fm^3\n",
        "M0 = (4*3.14159265*(G**3)*rho_s)**(-0.5)\n",
        "R0 = G*M0\n",
        "mn = 938.926                                # mass of a neutron in MeV c^-2"
      ]
    },
    {
      "cell_type": "code",
      "execution_count": 18,
      "metadata": {
        "colab": {
          "base_uri": "https://localhost:8080/"
        },
        "id": "qo_RjgMuqXDZ",
        "outputId": "c4b831a6-fd02-4e96-ebee-57a95d849c2e"
      },
      "outputs": [
        {
          "name": "stdout",
          "output_type": "stream",
          "text": [
            "Newton-Raphson Converged after  5 iterations\n",
            "Initial number density, ni = 1.2918969375342138\n",
            "Initial Pressure, P[0] =  696.5487390842761 MeV/fm^3\n",
            "Simulation range, R = 0 to R = 90.36486611870906 km\n",
            "Step size for RK4 Solver: 0.01\n"
          ]
        }
      ],
      "source": [
        "#Initialising Values and Arrays\n",
        "\n",
        "'''Values for radius, step size and tolerance value'''\n",
        "N = 1501                              # Total number of data points\n",
        "r = np.linspace(0,15,N)               # values of radius to compute enclosed mass within it, pressure and density profiles\n",
        "h = r[1]-r[0]                         # step size for RK4Solver\n",
        "tol = 9e-5                            # tolerance for RK4Solver\n",
        "\n",
        "'''Arrays to store the updation values in RK4Solver'''\n",
        "m = np.zeros(N)                       # mass\n",
        "p = np.zeros(N)                       # pressure\n",
        "\n",
        "'''Initial Number Density of Neutrons at r = 0'''\n",
        "ni = initial_n()\n",
        "\n",
        "'''Setting intial values in the array - values at the center of the neutron star'''\n",
        "r[0] = 0                              # radius\n",
        "m[0] = 0                              # mass\n",
        "p[0] = 363.44 * (ni**2.54)/rho_s      # pressure\n",
        "\n",
        "'''Setting flags for choosing between classical and relativistic model'''\n",
        "flag_set = [0,1]\n",
        "\n",
        "'''Printing Inital Values'''\n",
        "print(\"Initial number density, ni =\", ni)\n",
        "print(\"Initial Pressure, P[0] = \", p[0]*rho_s, \"MeV/fm^3\")\n",
        "print(\"Simulation range, R = 0 to R =\", r[-1]*R0*1e-18, \"km\") # 1e-18 is the conversion factor from femtometers to kilometers\n",
        "print(\"Step size for RK4 Solver:\", h)\n"
      ]
    },
    {
      "cell_type": "markdown",
      "metadata": {
        "id": "CoejQJ504MnW"
      },
      "source": [
        "## Modeling a Neutron Star <a name = 'h6'><a>"
      ]
    },
    {
      "cell_type": "code",
      "execution_count": 19,
      "metadata": {
        "colab": {
          "base_uri": "https://localhost:8080/",
          "height": 580
        },
        "id": "B4f9F4Lw4I3-",
        "outputId": "893c4718-5b70-4480-9fc8-2fcbdeffffe2"
      },
      "outputs": [
        {
          "name": "stdout",
          "output_type": "stream",
          "text": [
            "\n",
            "==================================================================\n",
            "Classical Model Results: P < 9e-05 found after 275 runs\n",
            "==================================================================\n",
            "Initial density, rho_s =  1665.3 MeV/fm^3\n",
            "Total mass =  10.075592302895434 times Solar mass\n",
            "Radius of the Neutron star =  16.627135365842467 km\n",
            "\n",
            "==================================================================\n",
            "Relativistic Model Results: P < 9e-05 found after 161 runs\n",
            "==================================================================\n",
            "Initial density, rho_s =  1665.3 MeV/fm^3\n",
            "Total mass =  1.878156929086536 times Solar mass\n",
            "Radius of the Neutron star =  9.759405540820579 km\n",
            "\n"
          ]
        },
        {
          "data": {
            "image/png": "[encoded data removed]",
            "text/plain": [
              "<Figure size 1800x500 with 2 Axes>"
            ]
          },
          "metadata": {},
          "output_type": "display_data"
        }
      ],
      "source": [
        "'''Using RK4 Numerical Method for modeling a neutron star'''\n",
        "plt.figure(figsize = (18, 5))                                   # setting up the figure size for subplots\n",
        "for k in range(0,2):                                            # k will take two values in this run --> 0 and 1\n",
        "    flag = flag_set[k]                                          # flag_set[0] = 0, flag_set[1] = 1\n",
        "    for i in range(0,N-1):                                      # for 1500 iterations\n",
        "        if flag == 0:                                           # if the flag is set to 0\n",
        "            [m[i+1], p[i+1]] = RK4Solver(r[i],m[i],p[i],h,flag) # use classical model\n",
        "        else:                                                   # if not 0\n",
        "            [m[i+1], p[i+1]] = RK4Solver(r[i],m[i],p[i],h,flag) # use relativistic model\n",
        "        if p[i+1] < tol:                                        # if the value of the pressure goes below tolerance (close to 0 as we know)\n",
        "            break                                               # the simulation is completed\n",
        "    print()                                                     # for a new line between outputs\n",
        "    if i == N-2:                                                # if the pressure value was not able to go below the tolerance value\n",
        "        lbl1 = \"Program didn't converge to P = 0, extend the maximum value of r\" # print to increase the itetarations of simulation --> values of r\n",
        "    else:                                                       # if simulation stopped before this\n",
        "        lbl1 = f\"P < {tol} found after {i} runs\"                # print the conclusion statement\n",
        "\n",
        "    '''Keep only the used indices of array discarding the remaining ones'''\n",
        "    m = m[:i+2] # m[0:i+2 --> Exclusive index]\n",
        "    p = p[:i+2]\n",
        "    r = r[:i+2]\n",
        "\n",
        "    '''Time to visualise and print the results'''\n",
        "    if flag == 0:\n",
        "        lbl = \"Classical Model\"\n",
        "        plot_data('tab:orange', \"Classical Model\")\n",
        "    else:\n",
        "        lbl = \"Relativistic Model\"\n",
        "        plot_data('tab:cyan', \"Relativistic Model\")\n",
        "\n",
        "    '''Printing the overall output'''\n",
        "    print (\"==================================================================\")\n",
        "    print (lbl, \"Results:\", lbl1)\n",
        "    print (\"==================================================================\")\n",
        "    print (\"Initial density, rho_s = \", rho_s, \"MeV/fm^3\")\n",
        "    print (\"Total mass = \", m[-1]*M0/Ms, \"times Solar mass\")\n",
        "    print (\"Radius of the Neutron star = \", r[-1]*R0*1e-18, \"km\")\n",
        "\n",
        "print()\n",
        "plt.subplots_adjust(wspace = 0.15)"
      ]
    },
    {
      "cell_type": "markdown",
      "metadata": {
        "id": "Lp6t5PZPs74L"
      },
      "source": [
        "## Conclusion <a name = 'h7'><a>\n",
        "- The values obtained for the mass and radius of the neutron star using the relativistic model are consistent with what is expected for a neutron star.\n",
        "\n",
        "- However, the values you obtained using the classical model are not consistent with what is expected for a neutron star.\n",
        "\n",
        "- Therefore, a non-relativistic model is not a good approximation for describing the properties of neutron stars, and a relativistic model is necessary to accurately predict the mass and other properties of neutron stars."
      ]
    }
  ],
  "metadata": {
    "colab": {
      "provenance": []
    },
    "kernelspec": {
      "display_name": "Python 3",
      "name": "python3"
    },
    "language_info": {
      "codemirror_mode": {
        "name": "ipython",
        "version": 3
      },
      "file_extension": ".py",
      "mimetype": "text/x-python",
      "name": "python",
      "nbconvert_exporter": "python",
      "pygments_lexer": "ipython3",
      "version": "3.12.1"
    }
  },
  "nbformat": 4,
  "nbformat_minor": 0
}
